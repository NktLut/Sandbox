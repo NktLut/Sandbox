{
 "cells": [
  {
   "cell_type": "code",
   "execution_count": 1,
   "id": "729ab10a",
   "metadata": {},
   "outputs": [],
   "source": [
    "import pandas as pd"
   ]
  },
  {
   "cell_type": "markdown",
   "id": "c90942c9",
   "metadata": {},
   "source": [
    "# Downloading from Google Drive with gdown"
   ]
  },
  {
   "cell_type": "markdown",
   "id": "32941496",
   "metadata": {},
   "source": [
    "https://drive.google.com/file/d/1YB8BZ-U8fC2g1wXl0PqblOSEv7c9brmD/view?usp=sharing"
   ]
  },
  {
   "cell_type": "code",
   "execution_count": 2,
   "id": "1cd2b5fc",
   "metadata": {},
   "outputs": [],
   "source": [
    "#! pip install gdown"
   ]
  },
  {
   "cell_type": "markdown",
   "id": "94062a8c",
   "metadata": {},
   "source": [
    "### 1 Using function"
   ]
  },
  {
   "cell_type": "code",
   "execution_count": 3,
   "id": "c547e273",
   "metadata": {},
   "outputs": [],
   "source": [
    "# from downloaders import csv_from_google_drive\n",
    "\n",
    "# file_link = 'https://drive.google.com/file/d/1YB8BZ-U8fC2g1wXl0PqblOSEv7c9brmD/view?usp=sharing'\n",
    "# save_path = 'test'\n",
    "\n",
    "# csv_from_google_drive(file_link, save_path)\n",
    "\n",
    "# df = pd.read_csv('test.csv')\n",
    "# df.head()"
   ]
  },
  {
   "cell_type": "markdown",
   "id": "504271ad",
   "metadata": {},
   "source": [
    "### 2 Using shell command"
   ]
  },
  {
   "cell_type": "code",
   "execution_count": 4,
   "id": "e3d5b1a4",
   "metadata": {},
   "outputs": [],
   "source": [
    "# ! gdown --id 1YB8BZ-U8fC2g1wXl0PqblOSEv7c9brmD"
   ]
  },
  {
   "cell_type": "code",
   "execution_count": null,
   "id": "543415fa",
   "metadata": {},
   "outputs": [],
   "source": []
  },
  {
   "cell_type": "markdown",
   "id": "4135fc9a",
   "metadata": {},
   "source": [
    "# Downloading from Yandex Disk (API)"
   ]
  },
  {
   "cell_type": "markdown",
   "id": "a3c69932",
   "metadata": {},
   "source": [
    "### 1 Using function"
   ]
  },
  {
   "cell_type": "code",
   "execution_count": 6,
   "id": "2330a5ea",
   "metadata": {},
   "outputs": [],
   "source": [
    "# from downloaders import link_from_ya_disk\n",
    "\n",
    "# data_keys = ['https://disk.yandex.ru/d/prbgU-rZpiXVYg']\n",
    "# download_urls = link_from_ya_disk(data_keys)\n",
    "# active_studs = pd.read_csv(download_urls[0])\n",
    "# active_studs.head()"
   ]
  },
  {
   "cell_type": "code",
   "execution_count": null,
   "id": "33840e22",
   "metadata": {},
   "outputs": [],
   "source": []
  }
 ],
 "metadata": {
  "kernelspec": {
   "display_name": "Python 3 (ipykernel)",
   "language": "python",
   "name": "python3"
  },
  "language_info": {
   "codemirror_mode": {
    "name": "ipython",
    "version": 3
   },
   "file_extension": ".py",
   "mimetype": "text/x-python",
   "name": "python",
   "nbconvert_exporter": "python",
   "pygments_lexer": "ipython3",
   "version": "3.9.12"
  }
 },
 "nbformat": 4,
 "nbformat_minor": 5
}
